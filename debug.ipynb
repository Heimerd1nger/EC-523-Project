{
 "cells": [
  {
   "cell_type": "code",
   "execution_count": 1,
   "metadata": {},
   "outputs": [],
   "source": [
    "%load_ext autoreload\n",
    "%autoreload 2"
   ]
  },
  {
   "cell_type": "code",
   "execution_count": 2,
   "metadata": {},
   "outputs": [],
   "source": [
    "import torch\n",
    "import seaborn as sns\n",
    "import matplotlib.pyplot as plt\n",
    "from sklearn.metrics import confusion_matrix\n",
    "from train_checkpoint import get_starter_dataset\n",
    "from util.util import calculate_accuracy,compute_losses,simple_mia,standard_mia,plot_confusion_matrix\n",
    "from torchvision.models import resnet18\n",
    "DEVICE = torch.device(\"cuda\" if torch.cuda.is_available() else \"cpu\")"
   ]
  },
  {
   "attachments": {},
   "cell_type": "markdown",
   "metadata": {},
   "source": [
    "# Checkpoints Info"
   ]
  },
  {
   "cell_type": "code",
   "execution_count": 3,
   "metadata": {},
   "outputs": [
    {
     "name": "stdout",
     "output_type": "stream",
     "text": [
      "Files already downloaded and verified\n",
      "Files already downloaded and verified\n"
     ]
    }
   ],
   "source": [
    "retain_loader, forget_loader, val_loader,test_loader,train_loader = get_starter_dataset()"
   ]
  },
  {
   "cell_type": "code",
   "execution_count": null,
   "metadata": {},
   "outputs": [],
   "source": [
    "n_class = 10\n",
    "net = resnet18(weights=None, num_classes=n_class)\n",
    "net.load_state_dict(torch.load('checkpoints/pre-train-model_epoch_40_lr_0.1_momentum_0.9_weightdecay_0.0005.pth'))\n",
    "net.to(DEVICE);\n",
    "print(f\"Pre-trained performance, Retain_loader Accuracy: {calculate_accuracy(net,retain_loader):.2f}%, forget_loader Accuracy: {calculate_accuracy(net,forget_loader):.2f}%, Test_loader Accuracy: {calculate_accuracy(net,test_loader):.2f}%\")\n",
    "print(\"Pre-trained Standard MIA {:.2f}\".format(standard_mia(net,forget_loader,test_loader)))"
   ]
  },
  {
   "cell_type": "code",
   "execution_count": null,
   "metadata": {},
   "outputs": [],
   "source": [
    "n_class = 10\n",
    "renet = resnet18(weights=None, num_classes=n_class)\n",
    "renet.load_state_dict(torch.load('checkpoints/retrain-model_epoch_40_lr_0.1_momentum_0.9_weightdecay_0.0005.pth'))\n",
    "renet.to(DEVICE);\n",
    "print(f\"Re-trained performance, Retain_loader Accuracy: {calculate_accuracy(renet,retain_loader):.2f}%, forget_loader Accuracy: {calculate_accuracy(renet,forget_loader):.2f}%, Test_loader Accuracy: {calculate_accuracy(renet,test_loader):.2f}%\")\n",
    "print(\"Re-trained Standard MIA {:.2f}\".format(standard_mia(renet,forget_loader,test_loader)))"
   ]
  },
  {
   "cell_type": "code",
   "execution_count": 4,
   "metadata": {},
   "outputs": [
    {
     "name": "stdout",
     "output_type": "stream",
     "text": [
      "SCRUB performance, Retain_loader Accuracy: 1.00%, forget_loader Accuracy: 0.70%, Test_loader Accuracy: 0.70%\n",
      "SCRUB Standard MIA 0.51\n"
     ]
    }
   ],
   "source": [
    "n_class = 10\n",
    "renet = resnet18(weights=None, num_classes=n_class)\n",
    "renet.load_state_dict(torch.load('checkpoints/scrub/scrub-model_epoch_10_lr_0.006_temp_2.pth'))\n",
    "renet.to(DEVICE);\n",
    "print(f\"SCRUB performance, Retain_loader Accuracy: {calculate_accuracy(renet,retain_loader):.2f}%, forget_loader Accuracy: {calculate_accuracy(renet,forget_loader):.2f}%, Test_loader Accuracy: {calculate_accuracy(renet,test_loader):.2f}%\")\n",
    "print(\"SCRUB Standard MIA {:.2f}\".format(standard_mia(renet,forget_loader,test_loader)))"
   ]
  },
  {
   "cell_type": "code",
   "execution_count": 4,
   "metadata": {},
   "outputs": [
    {
     "name": "stdout",
     "output_type": "stream",
     "text": [
      "Finetune unlearning performance, Retain_loader Accuracy: 1.00%, forget_loader Accuracy: 0.92%, Test_loader Accuracy: 0.77%\n",
      "Finetune unlearning Standard MIA 0.58\n"
     ]
    }
   ],
   "source": [
    "n_class = 10\n",
    "renet = resnet18(weights=None, num_classes=n_class)\n",
    "renet.load_state_dict(torch.load('checkpoints/finetuning/finetuning-model_epoch_6_lr_0.1.pth'))\n",
    "renet.to(DEVICE);\n",
    "print(f\"Finetune unlearning performance, Retain_loader Accuracy: {calculate_accuracy(renet,retain_loader):.2f}%, forget_loader Accuracy: {calculate_accuracy(renet,forget_loader):.2f}%, Test_loader Accuracy: {calculate_accuracy(renet,test_loader):.2f}%\")\n",
    "print(\"Finetune unlearning Standard MIA {:.2f}\".format(standard_mia(renet,forget_loader,test_loader)))"
   ]
  },
  {
   "cell_type": "code",
   "execution_count": null,
   "metadata": {},
   "outputs": [],
   "source": []
  },
  {
   "attachments": {},
   "cell_type": "markdown",
   "metadata": {},
   "source": [
    "# Data Info"
   ]
  },
  {
   "cell_type": "code",
   "execution_count": null,
   "metadata": {},
   "outputs": [],
   "source": [
    "from util.util import label_distribution\n",
    "print('data distribution: forget-retain-val-test')\n",
    "label_distribution(forget_loader),label_distribution(retain_loader),label_distribution(val_loader),label_distribution(test_loader)"
   ]
  },
  {
   "cell_type": "code",
   "execution_count": null,
   "metadata": {},
   "outputs": [],
   "source": [
    "plot_confusion_matrix(renet.to('cpu'), forget_loader)"
   ]
  },
  {
   "cell_type": "code",
   "execution_count": null,
   "metadata": {},
   "outputs": [],
   "source": []
  },
  {
   "attachments": {},
   "cell_type": "markdown",
   "metadata": {},
   "source": [
    "## Embedding"
   ]
  },
  {
   "cell_type": "code",
   "execution_count": null,
   "metadata": {},
   "outputs": [],
   "source": [
    "from util.emb import extract_data_by_target,extract_feature\n",
    "import torch.nn as nn\n",
    "import torch.nn.functional as F\n",
    "renet.to(DEVICE)\n",
    "pre_extractor = nn.Sequential(*list(net.children())[:-1])\n",
    "re_extractor = nn.Sequential(*list(renet.children())[:-1])\n",
    "\n",
    "forget9 = extract_data_by_target(forget_loader,3).to(DEVICE)\n",
    "test9 = extract_data_by_target(test_loader,3).to(DEVICE)\n",
    "emb_f9 = pre_extractor(forget9).squeeze()\n",
    "emb_test9 = pre_extractor(test9).squeeze()\n",
    "prob_f9 = F.softmax(net(forget9),dim=1)\n",
    "prob_test9 = F.softmax(net(test9),dim=1)\n",
    "\n",
    "reemb_f9 = re_extractor(forget9).squeeze()\n",
    "reemb_test9 = re_extractor(test9).squeeze()\n",
    "reprob_f9 = F.softmax(renet(forget9),dim=1)\n",
    "reprob_test9 = F.softmax(renet(test9),dim=1)"
   ]
  },
  {
   "cell_type": "code",
   "execution_count": null,
   "metadata": {},
   "outputs": [],
   "source": [
    "emb_f9 = pre_extractor(forget_loader).squeeze()\n",
    "emb_test9 = pre_extractor(test_loader).squeeze()\n",
    "prob_f9 = F.softmax(net(forget_loader),dim=1)\n",
    "prob_test9 = F.softmax(net(test_loader),dim=1)\n",
    "# pre-train forget vs retrain forget\n",
    "cosine_similarities = F.cosine_similarity(emb_f9, reemb_f9, dim=1)\n",
    "t_dist = F.pairwise_distance(emb_f9, reemb_f9)\n",
    "print('embedding space cos smi and l2 distance between pre-train forget - retrain forget',cosine_similarities.mean(), t_dist.mean())\n",
    "\n",
    "pcosine_similarities = F.cosine_similarity(prob_f9, reprob_f9, dim=1)\n",
    "pt_dist = F.pairwise_distance(prob_f9, reprob_f9)\n",
    "print('prob space cos smi and l2 distance between pre-train forget - retrain forget',pcosine_similarities.mean(), pt_dist.mean())"
   ]
  },
  {
   "cell_type": "code",
   "execution_count": null,
   "metadata": {},
   "outputs": [],
   "source": [
    "# pre-train test vs retrain test\n",
    "cosine_similarities = F.cosine_similarity(emb_test9, reemb_test9, dim=1)\n",
    "t_dist = F.pairwise_distance(emb_test9, reemb_test9)\n",
    "print('embedding space cos smi and l2 distance between pre-train test vs retrain test',cosine_similarities.mean(), t_dist.mean())\n",
    "\n",
    "pcosine_similarities = F.cosine_similarity(prob_test9, reprob_test9, dim=1)\n",
    "pt_dist = F.pairwise_distance(prob_test9, reprob_test9)\n",
    "print('prob space cos smi and l2 distance between pre-train test vs retrain test',pcosine_similarities.mean(), pt_dist.mean())"
   ]
  },
  {
   "cell_type": "code",
   "execution_count": null,
   "metadata": {},
   "outputs": [],
   "source": [
    "# pre-train forget vs pre-train test\n",
    "lens = len(emb_f9) if len(emb_f9) < len(emb_test9) else len(emb_test9)\n",
    "cosine_similarities = F.cosine_similarity(emb_f9[0:lens], emb_test9[0:lens], dim=1)\n",
    "t_dist = F.pairwise_distance(emb_f9[0:lens], emb_test9[0:lens])\n",
    "print('embedding space cos smi and l2 distance between pre-train forget vs pre-train test',cosine_similarities.mean(), t_dist.mean())\n",
    "\n",
    "pcosine_similarities = F.cosine_similarity(prob_f9[0:lens], prob_test9[0:lens], dim=1)\n",
    "pt_dist = F.pairwise_distance(prob_f9[0:lens], prob_test9[0:lens])\n",
    "print('prob space cos smi and l2 distance between pre-train forget vs pre-train test',pcosine_similarities.mean(), pt_dist.mean())"
   ]
  },
  {
   "cell_type": "code",
   "execution_count": null,
   "metadata": {},
   "outputs": [],
   "source": [
    "# retrain forget vs retrain test\n",
    "lens = len(reemb_f9) if len(reemb_f9) < len(reemb_test9) else len(reemb_test9)\n",
    "cosine_similarities = F.cosine_similarity(reemb_f9[0:lens], reemb_test9[0:lens], dim=1)\n",
    "t_dist = F.pairwise_distance(reemb_f9[0:lens], reemb_test9[0:lens])\n",
    "print('embedding space cos smi and l2 distance between retrain forget vs retrain test',cosine_similarities.mean(), t_dist.mean())\n",
    "\n",
    "\n",
    "pcosine_similarities = F.cosine_similarity(reprob_f9[0:lens], reprob_test9[0:lens], dim=1)\n",
    "pt_dist = F.pairwise_distance(reprob_f9[0:lens], reprob_test9[0:lens])\n",
    "print('prob space cos smi and l2 distance between retrain forget vs retrain test',pcosine_similarities.mean(), pt_dist.mean())"
   ]
  },
  {
   "cell_type": "code",
   "execution_count": null,
   "metadata": {},
   "outputs": [],
   "source": [
    "nn.LogSoftmax(dim=-1)(outputs_forget @ outputs_retain.T/t)).mean()"
   ]
  }
 ],
 "metadata": {
  "kernelspec": {
   "display_name": "my_ml_env",
   "language": "python",
   "name": "python3"
  },
  "language_info": {
   "codemirror_mode": {
    "name": "ipython",
    "version": 3
   },
   "file_extension": ".py",
   "mimetype": "text/x-python",
   "name": "python",
   "nbconvert_exporter": "python",
   "pygments_lexer": "ipython3",
   "version": "3.10.13"
  },
  "orig_nbformat": 4
 },
 "nbformat": 4,
 "nbformat_minor": 2
}
