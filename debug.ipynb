{
 "cells": [
  {
   "cell_type": "code",
   "execution_count": 1,
   "metadata": {},
   "outputs": [],
   "source": [
    "%load_ext autoreload\n",
    "%autoreload 2"
   ]
  },
  {
   "cell_type": "code",
   "execution_count": 2,
   "metadata": {},
   "outputs": [],
   "source": [
    "import torch\n",
    "import seaborn as sns\n",
    "import matplotlib.pyplot as plt\n",
    "from sklearn.metrics import confusion_matrix\n",
    "from train_checkpoint import get_starter_dataset\n",
    "from util.util import calculate_accuracy,compute_losses,simple_mia,standard_mia,plot_confusion_matrix\n",
    "from torchvision.models import resnet18\n",
    "DEVICE = torch.device(\"cuda\" if torch.cuda.is_available() else \"cpu\")"
   ]
  },
  {
   "attachments": {},
   "cell_type": "markdown",
   "metadata": {},
   "source": [
    "# Checkpoints Info"
   ]
  },
  {
   "cell_type": "code",
   "execution_count": 3,
   "metadata": {},
   "outputs": [
    {
     "name": "stdout",
     "output_type": "stream",
     "text": [
      "Files already downloaded and verified\n",
      "Files already downloaded and verified\n"
     ]
    }
   ],
   "source": [
    "retain_loader, forget_loader, val_loader,test_loader,train_loader = get_starter_dataset()"
   ]
  },
  {
   "cell_type": "code",
   "execution_count": 3,
   "metadata": {},
   "outputs": [
    {
     "name": "stdout",
     "output_type": "stream",
     "text": [
      "Pre-trained performance, Retain_loader Accuracy: 1.00%, forget_loader Accuracy: 1.00%, Test_loader Accuracy: 0.77%\n",
      "Pre-trained Standard MIA 0.68\n"
     ]
    }
   ],
   "source": [
    "n_class = 10\n",
    "net = resnet18(weights=None, num_classes=n_class)\n",
    "net.load_state_dict(torch.load('checkpoints/pre-train-model_epoch_40_lr_0.1_momentum_0.9_weightdecay_0.0005.pth'))\n",
    "net.to(DEVICE);\n",
    "print(f\"Pre-trained performance, Retain_loader Accuracy: {calculate_accuracy(net,retain_loader):.2f}%, forget_loader Accuracy: {calculate_accuracy(net,forget_loader):.2f}%, Test_loader Accuracy: {calculate_accuracy(net,test_loader):.2f}%\")\n",
    "print(\"Pre-trained Standard MIA {:.2f}\".format(standard_mia(net,forget_loader,test_loader)))"
   ]
  },
  {
   "cell_type": "code",
   "execution_count": 4,
   "metadata": {},
   "outputs": [
    {
     "name": "stdout",
     "output_type": "stream",
     "text": [
      "Re-trained performance, Retain_loader Accuracy: 1.00%, forget_loader Accuracy: 0.77%, Test_loader Accuracy: 0.77%\n",
      "Re-trained Standard MIA 0.49\n"
     ]
    }
   ],
   "source": [
    "n_class = 10\n",
    "renet = resnet18(weights=None, num_classes=n_class)\n",
    "renet.load_state_dict(torch.load('checkpoints/retrain-model_epoch_40_lr_0.1_momentum_0.9_weightdecay_0.0005.pth'))\n",
    "renet.to(DEVICE);\n",
    "print(f\"Re-trained performance, Retain_loader Accuracy: {calculate_accuracy(renet,retain_loader):.2f}%, forget_loader Accuracy: {calculate_accuracy(renet,forget_loader):.2f}%, Test_loader Accuracy: {calculate_accuracy(renet,test_loader):.2f}%\")\n",
    "print(\"Re-trained Standard MIA {:.2f}\".format(standard_mia(renet,forget_loader,test_loader)))"
   ]
  },
  {
   "cell_type": "code",
   "execution_count": 6,
   "metadata": {},
   "outputs": [
    {
     "name": "stdout",
     "output_type": "stream",
     "text": [
      "SCRUB performance, Retain_loader Accuracy: 1.00%, forget_loader Accuracy: 0.80%, Test_loader Accuracy: 0.72%\n",
      "SCRUB Standard MIA 0.47\n"
     ]
    }
   ],
   "source": [
    "n_class = 10\n",
    "path = f\"checkpoints/scrub/scrub-model_epoch_8_lr_0.006_temp_2_subsamp_0.0.pth\"\n",
    "renet = resnet18(weights=None, num_classes=n_class)\n",
    "renet.load_state_dict(torch.load(path))\n",
    "renet.to(DEVICE);\n",
    "print(f\"SCRUB performance, Retain_loader Accuracy: {calculate_accuracy(renet,retain_loader):.2f}%, forget_loader Accuracy: {calculate_accuracy(renet,forget_loader):.2f}%, Test_loader Accuracy: {calculate_accuracy(renet,test_loader):.2f}%\")\n",
    "print(\"SCRUB Standard MIA {:.2f}\".format(standard_mia(renet,forget_loader,test_loader)))"
   ]
  },
  {
   "cell_type": "code",
   "execution_count": 7,
   "metadata": {},
   "outputs": [
    {
     "name": "stdout",
     "output_type": "stream",
     "text": [
      "portion 0.4\n",
      "SCRUB subsampling performance, Retain_loader Accuracy: 0.98%, forget_loader Accuracy: 0.68%, Test_loader Accuracy: 0.69%\n",
      "SCRUB subsampling Standard MIA 0.52\n",
      "portion 0.5\n",
      "SCRUB subsampling performance, Retain_loader Accuracy: 0.99%, forget_loader Accuracy: 0.73%, Test_loader Accuracy: 0.71%\n",
      "SCRUB subsampling Standard MIA 0.49\n",
      "portion 0.6\n",
      "SCRUB subsampling performance, Retain_loader Accuracy: 0.99%, forget_loader Accuracy: 0.74%, Test_loader Accuracy: 0.71%\n",
      "SCRUB subsampling Standard MIA 0.49\n",
      "portion 0.7\n",
      "SCRUB subsampling performance, Retain_loader Accuracy: 1.00%, forget_loader Accuracy: 0.76%, Test_loader Accuracy: 0.72%\n",
      "SCRUB subsampling Standard MIA 0.48\n",
      "portion 0.8\n",
      "SCRUB subsampling performance, Retain_loader Accuracy: 1.00%, forget_loader Accuracy: 0.77%, Test_loader Accuracy: 0.72%\n",
      "SCRUB subsampling Standard MIA 0.49\n",
      "portion 0.9\n",
      "SCRUB subsampling performance, Retain_loader Accuracy: 1.00%, forget_loader Accuracy: 0.78%, Test_loader Accuracy: 0.72%\n",
      "SCRUB subsampling Standard MIA 0.48\n"
     ]
    }
   ],
   "source": [
    "numbers = [round(i, 1) for i in range(4, 10, 1)]\n",
    "numbers = [num / 10 for num in numbers]\n",
    "for i in numbers:\n",
    "    print(f\"portion {i}\")\n",
    "    path = f\"checkpoints/scrub/scrub-model_epoch_8_lr_0.006_temp_2_subsamp_{i}.pth\"\n",
    "    renet = resnet18(weights=None, num_classes=n_class)\n",
    "    renet.load_state_dict(torch.load(path))\n",
    "    renet.to(DEVICE);\n",
    "    print(f\"SCRUB subsampling performance, Retain_loader Accuracy: {calculate_accuracy(renet,retain_loader):.2f}%, forget_loader Accuracy: {calculate_accuracy(renet,forget_loader):.2f}%, Test_loader Accuracy: {calculate_accuracy(renet,test_loader):.2f}%\")\n",
    "    print(\"SCRUB subsampling Standard MIA {:.2f}\".format(standard_mia(renet,forget_loader,test_loader)))"
   ]
  },
  {
   "cell_type": "code",
   "execution_count": 4,
   "metadata": {},
   "outputs": [
    {
     "name": "stdout",
     "output_type": "stream",
     "text": [
      "Finetune unlearning performance, Retain_loader Accuracy: 1.00%, forget_loader Accuracy: 0.92%, Test_loader Accuracy: 0.77%\n",
      "Finetune unlearning Standard MIA 0.58\n"
     ]
    }
   ],
   "source": [
    "n_class = 10\n",
    "renet = resnet18(weights=None, num_classes=n_class)\n",
    "renet.load_state_dict(torch.load('checkpoints/finetuning/finetuning-model_epoch_6_lr_0.1.pth'))\n",
    "renet.to(DEVICE);\n",
    "print(f\"Finetune unlearning performance, Retain_loader Accuracy: {calculate_accuracy(renet,retain_loader):.2f}%, forget_loader Accuracy: {calculate_accuracy(renet,forget_loader):.2f}%, Test_loader Accuracy: {calculate_accuracy(renet,test_loader):.2f}%\")\n",
    "print(\"Finetune unlearning Standard MIA {:.2f}\".format(standard_mia(renet,forget_loader,test_loader)))"
   ]
  },
  {
   "cell_type": "code",
   "execution_count": 8,
   "metadata": {},
   "outputs": [
    {
     "name": "stdout",
     "output_type": "stream",
     "text": [
      "Negative unlearning performance, Retain_loader Accuracy: 0.90%, forget_loader Accuracy: 0.83%, Test_loader Accuracy: 0.72%\n",
      "Negative unlearning Standard MIA 0.56\n"
     ]
    }
   ],
   "source": [
    "n_class = 10\n",
    "renet = resnet18(weights=None, num_classes=n_class)\n",
    "renet.load_state_dict(torch.load('checkpoints/finetuning/NGfinetuning-model_epoch_5_lr_0.03.pth'))\n",
    "renet.to(DEVICE);\n",
    "print(f\"Negative unlearning performance, Retain_loader Accuracy: {calculate_accuracy(renet,retain_loader):.2f}%, forget_loader Accuracy: {calculate_accuracy(renet,forget_loader):.2f}%, Test_loader Accuracy: {calculate_accuracy(renet,test_loader):.2f}%\")\n",
    "print(\"Negative unlearning Standard MIA {:.2f}\".format(standard_mia(renet,forget_loader,test_loader)))"
   ]
  },
  {
   "attachments": {},
   "cell_type": "markdown",
   "metadata": {},
   "source": [
    "# Data Info"
   ]
  },
  {
   "cell_type": "code",
   "execution_count": 3,
   "metadata": {},
   "outputs": [
    {
     "name": "stdout",
     "output_type": "stream",
     "text": [
      "data distribution: forget-retain-val-test\n"
     ]
    },
    {
     "data": {
      "text/plain": [
       "(Counter({5: 500,\n",
       "          2: 500,\n",
       "          8: 500,\n",
       "          4: 500,\n",
       "          7: 500,\n",
       "          0: 500,\n",
       "          9: 500,\n",
       "          6: 500,\n",
       "          1: 500,\n",
       "          3: 500}),\n",
       " Counter({5: 4500,\n",
       "          1: 4500,\n",
       "          7: 4500,\n",
       "          2: 4500,\n",
       "          9: 4500,\n",
       "          6: 4500,\n",
       "          0: 4500,\n",
       "          4: 4500,\n",
       "          3: 4500,\n",
       "          8: 4500}),\n",
       " Counter({2: 536,\n",
       "          8: 517,\n",
       "          3: 512,\n",
       "          5: 511,\n",
       "          9: 500,\n",
       "          6: 495,\n",
       "          7: 494,\n",
       "          0: 488,\n",
       "          1: 476,\n",
       "          4: 471}),\n",
       " Counter({4: 529,\n",
       "          1: 524,\n",
       "          0: 512,\n",
       "          7: 506,\n",
       "          6: 505,\n",
       "          9: 500,\n",
       "          5: 489,\n",
       "          3: 488,\n",
       "          8: 483,\n",
       "          2: 464}))"
      ]
     },
     "execution_count": 3,
     "metadata": {},
     "output_type": "execute_result"
    }
   ],
   "source": [
    "from util.util import label_distribution\n",
    "print('data distribution: forget-retain-val-test')\n",
    "label_distribution(forget_loader),label_distribution(retain_loader),label_distribution(val_loader),label_distribution(test_loader)"
   ]
  },
  {
   "cell_type": "code",
   "execution_count": null,
   "metadata": {},
   "outputs": [],
   "source": [
    "plot_confusion_matrix(renet.to('cpu'), forget_loader)"
   ]
  },
  {
   "attachments": {},
   "cell_type": "markdown",
   "metadata": {},
   "source": [
    "## Embedding"
   ]
  },
  {
   "cell_type": "code",
   "execution_count": null,
   "metadata": {},
   "outputs": [],
   "source": [
    "from util.emb import extract_data_by_target,extract_feature\n",
    "import torch.nn as nn\n",
    "import torch.nn.functional as F\n",
    "renet.to(DEVICE)\n",
    "pre_extractor = nn.Sequential(*list(net.children())[:-1])\n",
    "re_extractor = nn.Sequential(*list(renet.children())[:-1])\n",
    "\n",
    "forget9 = extract_data_by_target(forget_loader,3).to(DEVICE)\n",
    "test9 = extract_data_by_target(test_loader,3).to(DEVICE)\n",
    "emb_f9 = pre_extractor(forget9).squeeze()\n",
    "emb_test9 = pre_extractor(test9).squeeze()\n",
    "prob_f9 = F.softmax(net(forget9),dim=1)\n",
    "prob_test9 = F.softmax(net(test9),dim=1)\n",
    "\n",
    "reemb_f9 = re_extractor(forget9).squeeze()\n",
    "reemb_test9 = re_extractor(test9).squeeze()\n",
    "reprob_f9 = F.softmax(renet(forget9),dim=1)\n",
    "reprob_test9 = F.softmax(renet(test9),dim=1)"
   ]
  },
  {
   "cell_type": "code",
   "execution_count": null,
   "metadata": {},
   "outputs": [],
   "source": [
    "emb_f9 = pre_extractor(forget_loader).squeeze()\n",
    "emb_test9 = pre_extractor(test_loader).squeeze()\n",
    "prob_f9 = F.softmax(net(forget_loader),dim=1)\n",
    "prob_test9 = F.softmax(net(test_loader),dim=1)\n",
    "# pre-train forget vs retrain forget\n",
    "cosine_similarities = F.cosine_similarity(emb_f9, reemb_f9, dim=1)\n",
    "t_dist = F.pairwise_distance(emb_f9, reemb_f9)\n",
    "print('embedding space cos smi and l2 distance between pre-train forget - retrain forget',cosine_similarities.mean(), t_dist.mean())\n",
    "\n",
    "pcosine_similarities = F.cosine_similarity(prob_f9, reprob_f9, dim=1)\n",
    "pt_dist = F.pairwise_distance(prob_f9, reprob_f9)\n",
    "print('prob space cos smi and l2 distance between pre-train forget - retrain forget',pcosine_similarities.mean(), pt_dist.mean())"
   ]
  },
  {
   "cell_type": "code",
   "execution_count": null,
   "metadata": {},
   "outputs": [],
   "source": [
    "# pre-train test vs retrain test\n",
    "cosine_similarities = F.cosine_similarity(emb_test9, reemb_test9, dim=1)\n",
    "t_dist = F.pairwise_distance(emb_test9, reemb_test9)\n",
    "print('embedding space cos smi and l2 distance between pre-train test vs retrain test',cosine_similarities.mean(), t_dist.mean())\n",
    "\n",
    "pcosine_similarities = F.cosine_similarity(prob_test9, reprob_test9, dim=1)\n",
    "pt_dist = F.pairwise_distance(prob_test9, reprob_test9)\n",
    "print('prob space cos smi and l2 distance between pre-train test vs retrain test',pcosine_similarities.mean(), pt_dist.mean())"
   ]
  },
  {
   "cell_type": "code",
   "execution_count": null,
   "metadata": {},
   "outputs": [],
   "source": [
    "# pre-train forget vs pre-train test\n",
    "lens = len(emb_f9) if len(emb_f9) < len(emb_test9) else len(emb_test9)\n",
    "cosine_similarities = F.cosine_similarity(emb_f9[0:lens], emb_test9[0:lens], dim=1)\n",
    "t_dist = F.pairwise_distance(emb_f9[0:lens], emb_test9[0:lens])\n",
    "print('embedding space cos smi and l2 distance between pre-train forget vs pre-train test',cosine_similarities.mean(), t_dist.mean())\n",
    "\n",
    "pcosine_similarities = F.cosine_similarity(prob_f9[0:lens], prob_test9[0:lens], dim=1)\n",
    "pt_dist = F.pairwise_distance(prob_f9[0:lens], prob_test9[0:lens])\n",
    "print('prob space cos smi and l2 distance between pre-train forget vs pre-train test',pcosine_similarities.mean(), pt_dist.mean())"
   ]
  },
  {
   "cell_type": "code",
   "execution_count": null,
   "metadata": {},
   "outputs": [],
   "source": [
    "# retrain forget vs retrain test\n",
    "lens = len(reemb_f9) if len(reemb_f9) < len(reemb_test9) else len(reemb_test9)\n",
    "cosine_similarities = F.cosine_similarity(reemb_f9[0:lens], reemb_test9[0:lens], dim=1)\n",
    "t_dist = F.pairwise_distance(reemb_f9[0:lens], reemb_test9[0:lens])\n",
    "print('embedding space cos smi and l2 distance between retrain forget vs retrain test',cosine_similarities.mean(), t_dist.mean())\n",
    "\n",
    "\n",
    "pcosine_similarities = F.cosine_similarity(reprob_f9[0:lens], reprob_test9[0:lens], dim=1)\n",
    "pt_dist = F.pairwise_distance(reprob_f9[0:lens], reprob_test9[0:lens])\n",
    "print('prob space cos smi and l2 distance between retrain forget vs retrain test',pcosine_similarities.mean(), pt_dist.mean())"
   ]
  },
  {
   "cell_type": "code",
   "execution_count": null,
   "metadata": {},
   "outputs": [],
   "source": [
    "nn.LogSoftmax(dim=-1)(outputs_forget @ outputs_retain.T/t)).mean()"
   ]
  }
 ],
 "metadata": {
  "kernelspec": {
   "display_name": "my_ml_env",
   "language": "python",
   "name": "python3"
  },
  "language_info": {
   "codemirror_mode": {
    "name": "ipython",
    "version": 3
   },
   "file_extension": ".py",
   "mimetype": "text/x-python",
   "name": "python",
   "nbconvert_exporter": "python",
   "pygments_lexer": "ipython3",
   "version": "3.10.13"
  },
  "orig_nbformat": 4
 },
 "nbformat": 4,
 "nbformat_minor": 2
}
