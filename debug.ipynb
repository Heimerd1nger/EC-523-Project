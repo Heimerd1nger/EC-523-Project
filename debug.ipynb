{
 "cells": [
  {
   "cell_type": "code",
   "execution_count": 3,
   "metadata": {},
   "outputs": [],
   "source": [
    "from train_checkpoint import get_starter_dataset\n",
    "from util.util import calculate_accuracy,compute_losses,simple_mia\n",
    "from torchvision.models import resnet18\n",
    "import torch\n",
    "DEVICE = torch.device(\"cuda\" if torch.cuda.is_available() else \"cpu\")"
   ]
  },
  {
   "cell_type": "code",
   "execution_count": 4,
   "metadata": {},
   "outputs": [
    {
     "name": "stdout",
     "output_type": "stream",
     "text": [
      "Files already downloaded and verified\n",
      "Files already downloaded and verified\n"
     ]
    }
   ],
   "source": [
    "retain_loader, forget_loader, val_loader,test_loader,train_loader = get_starter_dataset()"
   ]
  },
  {
   "cell_type": "code",
   "execution_count": 6,
   "metadata": {},
   "outputs": [
    {
     "name": "stdout",
     "output_type": "stream",
     "text": [
      "Pre-trained performance, Retain_loader Accuracy: 1.00%, forget_loader Accuracy: 1.00%, Test_loader Accuracy: 0.77%\n"
     ]
    }
   ],
   "source": [
    "n_class = 10\n",
    "net = resnet18(weights=None, num_classes=n_class)\n",
    "net.load_state_dict(torch.load('checkpoints/pre-train-model_epoch_40_lr_0.1_momentum_0.9_weightdecay_0.0005.pth'))\n",
    "net.to(DEVICE);\n",
    "print(f\"Pre-trained performance, Retain_loader Accuracy: {calculate_accuracy(net,retain_loader):.2f}%, forget_loader Accuracy: {calculate_accuracy(net,forget_loader):.2f}%, Test_loader Accuracy: {calculate_accuracy(net,test_loader):.2f}%\")\n"
   ]
  },
  {
   "cell_type": "code",
   "execution_count": 5,
   "metadata": {},
   "outputs": [
    {
     "name": "stdout",
     "output_type": "stream",
     "text": [
      "Re-trained performance, Retain_loader Accuracy: 1.00%, forget_loader Accuracy: 0.77%, Test_loader Accuracy: 0.77%\n"
     ]
    }
   ],
   "source": [
    "n_class = 10\n",
    "renet = resnet18(weights=None, num_classes=n_class)\n",
    "renet.load_state_dict(torch.load('checkpoints/retrain-model_epoch_40_lr_0.1_momentum_0.9_weightdecay_0.0005.pth'))\n",
    "renet.to(DEVICE);\n",
    "print(f\"Re-trained performance, Retain_loader Accuracy: {calculate_accuracy(renet,retain_loader):.2f}%, forget_loader Accuracy: {calculate_accuracy(renet,forget_loader):.2f}%, Test_loader Accuracy: {calculate_accuracy(renet,test_loader):.2f}%\")\n"
   ]
  }
 ],
 "metadata": {
  "kernelspec": {
   "display_name": "my_ml_env",
   "language": "python",
   "name": "python3"
  },
  "language_info": {
   "codemirror_mode": {
    "name": "ipython",
    "version": 3
   },
   "file_extension": ".py",
   "mimetype": "text/x-python",
   "name": "python",
   "nbconvert_exporter": "python",
   "pygments_lexer": "ipython3",
   "version": "3.10.13"
  },
  "orig_nbformat": 4
 },
 "nbformat": 4,
 "nbformat_minor": 2
}
